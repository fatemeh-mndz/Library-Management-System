{
 "cells": [
  {
   "cell_type": "code",
   "execution_count": 1,
   "metadata": {},
   "outputs": [],
   "source": [
    "import random \n",
    "class Book:\n",
    "    def __init__(self, title, genre, availability=True, loan_date=None, user_id=None):\n",
    "        self.title = title\n",
    "        self.genre = genre\n",
    "        self.availability = availability\n",
    "        self.loan_date = loan_date\n",
    "        self.user_id = user_id\n",
    "        self.id = random.randint(0, 1_000_000)\n",
    "\n",
    "    def __str__(self):\n",
    "        return f\"id: {self.id}, title: {self.title}, genre: {self.genre}, availablity: {self.availability}\""
   ]
  },
  {
   "cell_type": "code",
   "execution_count": 2,
   "metadata": {},
   "outputs": [],
   "source": [
    "user_list = [\n",
    "    {\n",
    "        'name': \"Hasan\",\n",
    "        'user_id': 0\n",
    "    },\n",
    "    {\n",
    "        'name': \"Fatemeh\",\n",
    "        'user_id': 1\n",
    "    },\n",
    "    {\n",
    "        'name': \"Ali\",\n",
    "        'user_id': 2\n",
    "    }\n",
    "]\n",
    "\n",
    "book_list= [\n",
    "    Book(title=\"To Kill a Mockingbird\", genre=\"Classic Literature\"),\n",
    "    Book(title=\"The Great Gatsby\", genre=\"Classic Literature\"),\n",
    "    Book(title=\"1984\", genre=\"Dystopian Fiction\"),\n",
    "]"
   ]
  },
  {
   "cell_type": "code",
   "execution_count": 3,
   "metadata": {},
   "outputs": [
    {
     "name": "stdout",
     "output_type": "stream",
     "text": [
      "id: 193556, title: To Kill a Mockingbird, genre: Classic Literature, availablity: True\n"
     ]
    }
   ],
   "source": [
    "print(book_list[0])"
   ]
  },
  {
   "cell_type": "code",
   "execution_count": 4,
   "metadata": {},
   "outputs": [
    {
     "data": {
      "text/plain": [
       "'To Kill a Mockingbird'"
      ]
     },
     "execution_count": 4,
     "metadata": {},
     "output_type": "execute_result"
    }
   ],
   "source": [
    "book_list[0].title"
   ]
  },
  {
   "cell_type": "code",
   "execution_count": 6,
   "metadata": {},
   "outputs": [],
   "source": [
    "import datetime\n",
    "class Library_Management_System:\n",
    "    def __init__(self, book_list, user_list):\n",
    "        self.book_list = book_list\n",
    "        self.user_list = user_list\n",
    "\n",
    "    def print_book_list(self):\n",
    "        for book in self.book_list:\n",
    "            print(book)\n",
    "\n",
    "    def search_book(self, book_title):\n",
    "        filtered_book = [book for book in self.book_list if book_title in book.title]\n",
    "        return filtered_book\n",
    "\n",
    "    def add_book(self, book_title, book_genre):\n",
    "        if len(self.search_book(book_title)) != 0:\n",
    "            print(f\"{book_title} is already existed\")\n",
    "        else:\n",
    "            book_list.append(Book(title=book_title, genre=book_genre))\n",
    "            return \" Book added successfully\"\n",
    "   \n",
    "    def remove_book(self, book_id):\n",
    "        for book in book_list:\n",
    "            if book.id == book_id:\n",
    "                book_list.remove(book)\n",
    "                return (\"Book removed successfully\")  \n",
    "        return \"not found!\"\n",
    "                \n",
    "    \n",
    "    def availability(self, book_title): # TODO\n",
    "        filtered_book = self.search_book(book_title)\n",
    "        for book in filtered_book:\n",
    "            print(book)\n",
    "        \n",
    "\n",
    "    def rent(self, book_title, user_id):\n",
    "        for book in book_list:\n",
    "            if book.title==book_title:\n",
    "                if not book.availability:\n",
    "                    print(\"book isn't available right now!\")\n",
    "                else:    \n",
    "                    book.availability = False\n",
    "                    book.user_id =  user_id\n",
    "                    book.loan_date = datetime.datetime.now()           \n",
    "                    print(\"Information has been saved successfully.\")\n",
    "                    print(book)\n",
    "                 \n",
    "        print(\"Book not found in the library.\")"
   ]
  },
  {
   "cell_type": "code",
   "execution_count": 7,
   "metadata": {},
   "outputs": [],
   "source": [
    "lib1 = Library_Management_System(book_list=book_list, user_list=user_list)"
   ]
  },
  {
   "cell_type": "code",
   "execution_count": 8,
   "metadata": {},
   "outputs": [
    {
     "name": "stdout",
     "output_type": "stream",
     "text": [
      "id: 193556, title: To Kill a Mockingbird, genre: Classic Literature, availablity: True\n",
      "id: 556745, title: The Great Gatsby, genre: Classic Literature, availablity: True\n",
      "id: 575303, title: 1984, genre: Dystopian Fiction, availablity: True\n"
     ]
    }
   ],
   "source": [
    "lib1.print_book_list()"
   ]
  },
  {
   "cell_type": "code",
   "execution_count": 9,
   "metadata": {},
   "outputs": [
    {
     "data": {
      "text/plain": [
       "' Book added successfully'"
      ]
     },
     "execution_count": 9,
     "metadata": {},
     "output_type": "execute_result"
    }
   ],
   "source": [
    "lib1.add_book(book_title='test', book_genre='another test')"
   ]
  },
  {
   "cell_type": "code",
   "execution_count": 10,
   "metadata": {},
   "outputs": [
    {
     "name": "stdout",
     "output_type": "stream",
     "text": [
      "id: 193556, title: To Kill a Mockingbird, genre: Classic Literature, availablity: True\n",
      "id: 556745, title: The Great Gatsby, genre: Classic Literature, availablity: True\n",
      "id: 575303, title: 1984, genre: Dystopian Fiction, availablity: True\n",
      "id: 457764, title: test, genre: another test, availablity: True\n"
     ]
    }
   ],
   "source": [
    "lib1.print_book_list()"
   ]
  },
  {
   "cell_type": "code",
   "execution_count": 11,
   "metadata": {},
   "outputs": [
    {
     "name": "stdout",
     "output_type": "stream",
     "text": [
      "id: 193556, title: To Kill a Mockingbird, genre: Classic Literature, availablity: True\n",
      "id: 556745, title: The Great Gatsby, genre: Classic Literature, availablity: True\n",
      "id: 575303, title: 1984, genre: Dystopian Fiction, availablity: True\n",
      "id: 457764, title: test, genre: another test, availablity: True\n"
     ]
    }
   ],
   "source": [
    "for book in book_list:\n",
    "    print(book)"
   ]
  }
 ],
 "metadata": {
  "kernelspec": {
   "display_name": "Python 3",
   "language": "python",
   "name": "python3"
  },
  "language_info": {
   "codemirror_mode": {
    "name": "ipython",
    "version": 3
   },
   "file_extension": ".py",
   "mimetype": "text/x-python",
   "name": "python",
   "nbconvert_exporter": "python",
   "pygments_lexer": "ipython3",
   "version": "3.9.10"
  }
 },
 "nbformat": 4,
 "nbformat_minor": 2
}
